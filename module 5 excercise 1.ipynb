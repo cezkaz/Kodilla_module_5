{
 "cells": [
  {
   "cell_type": "markdown",
   "id": "98eae329",
   "metadata": {},
   "source": [
    "## Zadanie: wizytówki\n",
    "Dysponujesz już całkiem rozbudowanym programem do obsługi wizytówek. Po dodaniu kilku elementów wyślij go Mentorowi.\n",
    "\n",
    "Używając dziedziczenia, rozdziel podstawową klasę wizytówki na dwie osobne: pierwsza (BaseContact) powinna przechowywać podstawowe dane kontaktowe takie jak imię, nazwisko, telefon, adres e-mail. Za pomocą kolejnej klasy (BusinessContact) rozszerz klasę bazową o przechowywanie informacji związanych z pracą danej osoby – stanowisko, nazwa firmy, telefon służbowy.\n",
    "Oba typy wizytówek, powinny oferować metodę contact(), która wyświetli na konsoli komunikat w postaci “Wybieram numer +48 123456789 i dzwonię do Jan Kowalski”. Wizytówka firmowa powinna wybierać służbowy numer telefonu, a wizytówka bazowa prywatny.\n",
    "Oba typy wizytówek powinny mieć dynamiczny atrybut label_length, który zwraca długość imienia i nazwiska danej osoby.\n",
    "Stwórz funkcję create_contacts, która będzie potrafiła komponować losowe wizytówki. Niech ta funkcja przyjmuje dwa parametry: rodzaj wizytówki oraz ilość. Wykorzystaj bibliotekę faker do generowania danych."
   ]
  },
  {
   "cell_type": "code",
   "execution_count": 1,
   "id": "0c145598",
   "metadata": {},
   "outputs": [],
   "source": [
    "from faker import Faker\n",
    "fake_data = Faker()"
   ]
  },
  {
   "cell_type": "code",
   "execution_count": 2,
   "id": "e721945b",
   "metadata": {},
   "outputs": [
    {
     "name": "stdout",
     "output_type": "stream",
     "text": [
      "Terri Long\n"
     ]
    }
   ],
   "source": [
    "# create fake name\n",
    "name = fake_data.name(); print(name)\n"
   ]
  },
  {
   "cell_type": "code",
   "execution_count": 4,
   "id": "d001d69b",
   "metadata": {},
   "outputs": [
    {
     "name": "stdout",
     "output_type": "stream",
     "text": [
      "300 Rachel Street Suite 775\n",
      "North Allenbury, MS 11050\n"
     ]
    }
   ],
   "source": [
    "#  create fake address\n",
    "address = fake_data.address(); print(address)"
   ]
  },
  {
   "cell_type": "code",
   "execution_count": 5,
   "id": "9efa238a",
   "metadata": {},
   "outputs": [
    {
     "name": "stdout",
     "output_type": "stream",
     "text": [
      "moodydouglas@example.com\n"
     ]
    }
   ],
   "source": [
    "# create fake email\n",
    "email = fake_data.email(); print(email)"
   ]
  },
  {
   "cell_type": "code",
   "execution_count": 6,
   "id": "30c35907",
   "metadata": {},
   "outputs": [
    {
     "name": "stdout",
     "output_type": "stream",
     "text": [
      "(980)927-2338\n"
     ]
    }
   ],
   "source": [
    "# create fake phone_number\n",
    "phone_number = fake_data.phone_number(); print(phone_number)"
   ]
  },
  {
   "cell_type": "code",
   "execution_count": 8,
   "id": "59b2406f",
   "metadata": {},
   "outputs": [
    {
     "name": "stdout",
     "output_type": "stream",
     "text": [
      "username: millercourtney\n",
      "name: Laura Johnson\n",
      "sex: F\n",
      "address: 792 Deanna Rapid Suite 859\n",
      "Claudiachester, GA 82252\n",
      "mail: alexanderjohnson@hotmail.com\n",
      "birthdate: 1927-07-02\n"
     ]
    }
   ],
   "source": [
    "# create fake profile\n",
    "profile = fake_data.simple_profile()\n",
    "for k,v in profile.items():\n",
    "    print('{}: {}'.format(k,v))"
   ]
  },
  {
   "cell_type": "code",
   "execution_count": 9,
   "id": "2ee54fa2",
   "metadata": {},
   "outputs": [
    {
     "name": "stdout",
     "output_type": "stream",
     "text": [
      "Name: Terri Long, Address: 300 Rachel Street Suite 775\n",
      "North Allenbury, MS 11050, email: moodydouglas@example.com, phone_number: (980)927-2338\n"
     ]
    }
   ],
   "source": [
    "print('Name: {}, Address: {}, email: {}, phone_number: {}'.format(name,address,email,phone_number))"
   ]
  },
  {
   "cell_type": "code",
   "execution_count": 10,
   "id": "b2a41a8f",
   "metadata": {},
   "outputs": [
    {
     "name": "stdout",
     "output_type": "stream",
     "text": [
      "Christopher Smith\n",
      "Tyler Robbins\n",
      "William Smith\n",
      "Nina Norris\n",
      "Dorothy Mitchell\n",
      "Ralph Chandler\n",
      "Lisa Fleming\n",
      "Aaron King\n",
      "Wayne Mcdaniel\n",
      "Jennifer Gross\n",
      "Travis Mendoza\n",
      "Antonio Cummings\n",
      "Victoria Nelson\n",
      "Scott Robertson\n",
      "Kaitlyn Smith\n",
      "Sabrina Duncan\n",
      "Mark Cooper\n",
      "Amanda Johnson\n",
      "Penny Benson\n",
      "Daniel Kirk\n"
     ]
    }
   ],
   "source": [
    "# generate large set of fake data\n",
    "for _ in range(0,20):\n",
    "    print(fake_data.name())"
   ]
  },
  {
   "cell_type": "code",
   "execution_count": 11,
   "id": "580302cd",
   "metadata": {},
   "outputs": [],
   "source": [
    "# function to fill a list with data\n",
    "def create_name_list(how_many):\n",
    "    names = []\n",
    "    for _ in range(0,hoe_many):\n",
    "        names.append(fake_data.name())\n",
    "    return names"
   ]
  },
  {
   "cell_type": "code",
   "execution_count": 12,
   "id": "9ce93c21",
   "metadata": {},
   "outputs": [],
   "source": [
    "# create person object\n",
    "class Card:\n",
    "    def __init__(self,name,address,email,phone_number):\n",
    "        self.name = name\n",
    "        self.address = address\n",
    "        self.email = email\n",
    "        self.phone_number = phone_number\n",
    "    \n",
    "    def __repr__(self):\n",
    "        return 'name: {}, address: {}, email: {}, phone_number: {}'.format(self.name,self.address, self.email,self.phone_number)\n",
    "    "
   ]
  },
  {
   "cell_type": "code",
   "execution_count": 13,
   "id": "4e6f30f5",
   "metadata": {},
   "outputs": [
    {
     "name": "stdout",
     "output_type": "stream",
     "text": [
      "name: Diane Bryan, address: 8005 Michele Drives Suite 081\n",
      "South Tiffany, VA 22312, email: wwatson@example.com, phone_number: 877.440.0430x9636\n"
     ]
    }
   ],
   "source": [
    "# instance of Card class using fake data\n",
    "card1 = Card(fake_data.name(), fake_data.address(), fake_data.email(), fake_data.phone_number())\n",
    "print(card1)"
   ]
  },
  {
   "cell_type": "code",
   "execution_count": 14,
   "id": "1adec0ca",
   "metadata": {},
   "outputs": [
    {
     "name": "stdout",
     "output_type": "stream",
     "text": [
      "name: James Boyle, address: 2778 Roberts Hill\n",
      "Laurietown, AK 27685, email: wallacediana@example.net, phone_number: 501.563.3839x765 \n",
      "\n",
      "name: Meagan Webb, address: 400 Kelli Mission Suite 848\n",
      "Perryside, MA 14559, email: barryryan@example.org, phone_number: (799)589-0507x4071 \n",
      "\n",
      "name: Mrs. Sheryl Cook, address: 17835 Amanda Ferry Apt. 050\n",
      "Vaughnshire, AZ 88785, email: karenwebster@example.net, phone_number: +1-902-001-8836 \n",
      "\n",
      "name: Theresa Warren, address: 17804 Tyler Track\n",
      "Lake Ronald, KY 05467, email: zglover@example.org, phone_number: (964)011-7507x4652 \n",
      "\n",
      "name: Tyler Johnson, address: 580 Rojas Stream Suite 170\n",
      "Brandyville, NY 28567, email: willie99@example.com, phone_number: 481.616.6122 \n",
      "\n",
      "name: Julie Moreno, address: 86847 Torres Hill Suite 111\n",
      "East Brendaberg, OH 31911, email: keithpittman@example.com, phone_number: 916.879.1626x1923 \n",
      "\n",
      "name: Julia Lowe MD, address: 13152 Johnson Lake\n",
      "Christopherborough, KY 45853, email: sara62@example.net, phone_number: (525)162-5119x86865 \n",
      "\n",
      "name: Jonathan Bailey, address: 5738 Tyler Views Apt. 475\n",
      "East Linda, ID 57366, email: yolandaschmitt@example.net, phone_number: +1-026-358-0027x042 \n",
      "\n",
      "name: Gary Bird, address: 981 Donna Landing Suite 495\n",
      "Shepherdstad, SC 58149, email: bjohnson@example.com, phone_number: 375.987.3385x527 \n",
      "\n",
      "name: Christina Mitchell, address: 2370 Johnston Corners\n",
      "South Adrienneport, FL 86874, email: fochoa@example.org, phone_number: 001-275-469-7256x29764 \n",
      "\n"
     ]
    }
   ],
   "source": [
    "# generate list of cards\n",
    "card_list = []\n",
    "for i in range(10):\n",
    "    card_list.append(Card(fake_data.name(), fake_data.address(), fake_data.email(), fake_data.phone_number()))\n",
    "for i in card_list:\n",
    "    print(i,'\\n')"
   ]
  },
  {
   "cell_type": "code",
   "execution_count": 17,
   "id": "7dcde729",
   "metadata": {},
   "outputs": [
    {
     "name": "stdout",
     "output_type": "stream",
     "text": [
      "Cyprian Ciemięga, tobiasz29@example.org, Kupiec, Mijas-Słaba Sp.k.\n",
      "Wybieram telefon prywatny: +48 693 068 406 i dzwonię do  Cyprian Ciemięga\n",
      "Wybieram telefon do pracy: +48 693 068 406  and call to :Cyprian Ciemięga\n",
      "16\n",
      "\n"
     ]
    }
   ],
   "source": [
    "from faker import Faker\n",
    "fake = Faker(\"pl_PL\")\n",
    "\n",
    "class BaseContact:\n",
    "    def __init__(self,first_name,last_name,email,address,tel_priv):\n",
    "        self.first_name = first_name\n",
    "        self.last_name = last_name\n",
    "        self.email = email\n",
    "        self.address = address\n",
    "        self.tel_priv = tel_priv\n",
    "        \n",
    "    def __str__(self):\n",
    "        return f\"{self.first_name} {self.last_name}, {self.email}, {self.occupation}, {self.company}\"\n",
    "    \n",
    "    def __repr__(self):\n",
    "        return f\"Card(first_name={self.first_name} last_name={self.last_name}, email={self.email})\" \n",
    "    \n",
    "    def contact(self):\n",
    "        return f\"Wybieram telefon prywatny: {self.tel_work} i dzwonię do  {self.first_name} {self.last_name}\" \n",
    "    \n",
    "    def workcontact(self):\n",
    "        return f\"Wybieram telefon do pracy: {self.tel_work}  and call to :{self.first_name} {self.last_name}\" \n",
    "    \n",
    "    @property\n",
    "    def label_lenght(self):\n",
    "        return sum([len(self.first_name), len(self.last_name), +1])\n",
    "    \n",
    "class BusinessContact(BaseContact):\n",
    "    def __init__(self, tel_work, company, occupation, *args, **kwargs):\n",
    "        super().__init__(*args,**kwargs)\n",
    "        self.tel_work = tel_work\n",
    "        self.company = company\n",
    "        self.occupation = occupation\n",
    "person_1 = BusinessContact(first_name=fake.first_name(), last_name=fake.last_name(), company=fake.company(),\n",
    "                          occupation=fake.job(), email=fake.email(), address=fake.address(),tel_priv=fake.phone_number(), tel_work=fake.phone_number())\n",
    "\n",
    "print(person_1)\n",
    "print(person_1.contact())\n",
    "print(person_1.workcontact())\n",
    "print(person_1.label_lenght)\n",
    "print()\n",
    "    "
   ]
  },
  {
   "cell_type": "code",
   "execution_count": 18,
   "id": "14013c1f",
   "metadata": {},
   "outputs": [
    {
     "name": "stdout",
     "output_type": "stream",
     "text": [
      "wybierz rodzaj wizytówki: b - business, d - home: d\n",
      "wybierz liczbę wizytówek: 2\n",
      "[<class '__main__.BaseContact'>, <class '__main__.BaseContact'>]\n"
     ]
    }
   ],
   "source": [
    "def create_contacts(kind, how_many):\n",
    "    \n",
    "    \n",
    "    contacts=[]\n",
    "    for i in range(how_many):\n",
    "        if kind == 'b':\n",
    "            contacts.append(BusinessContact)\n",
    "        elif kind == 'd':\n",
    "            contacts.append(BaseContact)\n",
    "    return contacts\n",
    "\n",
    "if __name__ == '__main__':\n",
    "    kind = input(\"wybierz rodzaj wizytówki: b - business, d - home: \")\n",
    "    how_many = int(input(\"wybierz liczbę wizytówek: \"))\n",
    "    contacts = create_contacts(kind, how_many)\n",
    "    print(contacts)\n",
    "\n"
   ]
  },
  {
   "cell_type": "code",
   "execution_count": null,
   "id": "49c9f855",
   "metadata": {},
   "outputs": [],
   "source": []
  }
 ],
 "metadata": {
  "kernelspec": {
   "display_name": "Python 3 (ipykernel)",
   "language": "python",
   "name": "python3"
  },
  "language_info": {
   "codemirror_mode": {
    "name": "ipython",
    "version": 3
   },
   "file_extension": ".py",
   "mimetype": "text/x-python",
   "name": "python",
   "nbconvert_exporter": "python",
   "pygments_lexer": "ipython3",
   "version": "3.8.10"
  }
 },
 "nbformat": 4,
 "nbformat_minor": 5
}
